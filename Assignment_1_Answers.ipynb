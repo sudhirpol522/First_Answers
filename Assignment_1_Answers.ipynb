{
  "nbformat": 4,
  "nbformat_minor": 0,
  "metadata": {
    "kernelspec": {
      "display_name": "Python 3",
      "language": "python",
      "name": "python3"
    },
    "language_info": {
      "codemirror_mode": {
        "name": "ipython",
        "version": 3
      },
      "file_extension": ".py",
      "mimetype": "text/x-python",
      "name": "python",
      "nbconvert_exporter": "python",
      "pygments_lexer": "ipython3",
      "version": "3.7.3"
    },
    "colab": {
      "name": "Assignment -1_Answers.ipynb",
      "provenance": []
    }
  },
  "cells": [
    {
      "cell_type": "markdown",
      "metadata": {
        "id": "JgZr3BpR0Mv1",
        "colab_type": "text"
      },
      "source": [
        "1. Write a program which will find all such numbers which are divisible by 7 but are not a multiple of 5, between 2000 and 3200 (both included). The numbers obtained should be printed in a comma-separated sequence on a single line. "
      ]
    },
    {
      "cell_type": "code",
      "metadata": {
        "id": "QDb_6Pz30Mv6",
        "colab_type": "code",
        "outputId": "6d5cb68b-9241-4e4b-a926-3168951922c9",
        "colab": {
          "base_uri": "https://localhost:8080/",
          "height": 1000
        }
      },
      "source": [
        "x=list(filter(lambda x: x%7==0 and x%5!=0,range(2000,3001)))\n",
        "for i in x:\n",
        "  print(i,',')"
      ],
      "execution_count": 30,
      "outputs": [
        {
          "output_type": "stream",
          "text": [
            "2002 ,\n",
            "2009 ,\n",
            "2016 ,\n",
            "2023 ,\n",
            "2037 ,\n",
            "2044 ,\n",
            "2051 ,\n",
            "2058 ,\n",
            "2072 ,\n",
            "2079 ,\n",
            "2086 ,\n",
            "2093 ,\n",
            "2107 ,\n",
            "2114 ,\n",
            "2121 ,\n",
            "2128 ,\n",
            "2142 ,\n",
            "2149 ,\n",
            "2156 ,\n",
            "2163 ,\n",
            "2177 ,\n",
            "2184 ,\n",
            "2191 ,\n",
            "2198 ,\n",
            "2212 ,\n",
            "2219 ,\n",
            "2226 ,\n",
            "2233 ,\n",
            "2247 ,\n",
            "2254 ,\n",
            "2261 ,\n",
            "2268 ,\n",
            "2282 ,\n",
            "2289 ,\n",
            "2296 ,\n",
            "2303 ,\n",
            "2317 ,\n",
            "2324 ,\n",
            "2331 ,\n",
            "2338 ,\n",
            "2352 ,\n",
            "2359 ,\n",
            "2366 ,\n",
            "2373 ,\n",
            "2387 ,\n",
            "2394 ,\n",
            "2401 ,\n",
            "2408 ,\n",
            "2422 ,\n",
            "2429 ,\n",
            "2436 ,\n",
            "2443 ,\n",
            "2457 ,\n",
            "2464 ,\n",
            "2471 ,\n",
            "2478 ,\n",
            "2492 ,\n",
            "2499 ,\n",
            "2506 ,\n",
            "2513 ,\n",
            "2527 ,\n",
            "2534 ,\n",
            "2541 ,\n",
            "2548 ,\n",
            "2562 ,\n",
            "2569 ,\n",
            "2576 ,\n",
            "2583 ,\n",
            "2597 ,\n",
            "2604 ,\n",
            "2611 ,\n",
            "2618 ,\n",
            "2632 ,\n",
            "2639 ,\n",
            "2646 ,\n",
            "2653 ,\n",
            "2667 ,\n",
            "2674 ,\n",
            "2681 ,\n",
            "2688 ,\n",
            "2702 ,\n",
            "2709 ,\n",
            "2716 ,\n",
            "2723 ,\n",
            "2737 ,\n",
            "2744 ,\n",
            "2751 ,\n",
            "2758 ,\n",
            "2772 ,\n",
            "2779 ,\n",
            "2786 ,\n",
            "2793 ,\n",
            "2807 ,\n",
            "2814 ,\n",
            "2821 ,\n",
            "2828 ,\n",
            "2842 ,\n",
            "2849 ,\n",
            "2856 ,\n",
            "2863 ,\n",
            "2877 ,\n",
            "2884 ,\n",
            "2891 ,\n",
            "2898 ,\n",
            "2912 ,\n",
            "2919 ,\n",
            "2926 ,\n",
            "2933 ,\n",
            "2947 ,\n",
            "2954 ,\n",
            "2961 ,\n",
            "2968 ,\n",
            "2982 ,\n",
            "2989 ,\n",
            "2996 ,\n"
          ],
          "name": "stdout"
        }
      ]
    },
    {
      "cell_type": "markdown",
      "metadata": {
        "id": "GNctgqxK0MwD",
        "colab_type": "text"
      },
      "source": [
        "2. Write a Python program to accept the user's first and last name and then getting them printed in the the reverse order with a space between first name and last name"
      ]
    },
    {
      "cell_type": "code",
      "metadata": {
        "id": "pJT4g_RL0MwF",
        "colab_type": "code",
        "outputId": "7588cba3-523f-41f2-d1b8-aaa360207ca7",
        "colab": {
          "base_uri": "https://localhost:8080/",
          "height": 68
        }
      },
      "source": [
        "\n",
        "First_name=input('Your first Name: ')\n",
        "\n",
        "Last_name=input('Your last Name: ')\n",
        "print(Last_name+\" \"+First_name)"
      ],
      "execution_count": 42,
      "outputs": [
        {
          "output_type": "stream",
          "text": [
            "Your first Name: sudhir\n",
            "Your last Name: pol\n",
            "pol sudhir\n"
          ],
          "name": "stdout"
        }
      ]
    },
    {
      "cell_type": "markdown",
      "metadata": {
        "id": "KY2_cElW0MwM",
        "colab_type": "text"
      },
      "source": [
        "3.Write a Python program to find the volume of a sphere with diameter 12 cm.  \n",
        " \n",
        "Formula: V=4/3 * π * r 3 "
      ]
    },
    {
      "cell_type": "code",
      "metadata": {
        "id": "FcJdPjEv0MwP",
        "colab_type": "code",
        "colab": {
          "base_uri": "https://localhost:8080/",
          "height": 34
        },
        "outputId": "2f24d6db-1d98-4af1-f1fc-f56d67b17f19"
      },
      "source": [
        "import math\n",
        "print((4/3)*math.pi*(6**3))"
      ],
      "execution_count": 34,
      "outputs": [
        {
          "output_type": "stream",
          "text": [
            "904.7786842338603\n"
          ],
          "name": "stdout"
        }
      ]
    },
    {
      "cell_type": "markdown",
      "metadata": {
        "id": "Zqe1y1ap0MwU",
        "colab_type": "text"
      },
      "source": [
        "4.Write a program which accepts a sequence of comma-separated numbers from console and generate a list. "
      ]
    },
    {
      "cell_type": "code",
      "metadata": {
        "id": "jvf1HizM0MwV",
        "colab_type": "code",
        "colab": {
          "base_uri": "https://localhost:8080/",
          "height": 51
        },
        "outputId": "46cfa25c-1eae-4380-df0c-4e46b6212714"
      },
      "source": [
        "val=input('Input Your Numbers:')\n",
        "print(val.split(','))"
      ],
      "execution_count": 35,
      "outputs": [
        {
          "output_type": "stream",
          "text": [
            "Input Your Numbers:10,20,30,40\n",
            "['10', '20', '30', '40']\n"
          ],
          "name": "stdout"
        }
      ]
    },
    {
      "cell_type": "markdown",
      "metadata": {
        "id": "3iogCLNg0Mwa",
        "colab_type": "raw"
      },
      "source": [
        "5. Create the below pattern using nested for loop in Python. \n",
        " \n",
        " \n",
        "*  \n",
        "* *  \n",
        "* * * \n",
        "* * * *  \n",
        "* * * * *  \n",
        "* * * *  \n",
        "* * *  \n",
        "* *  \n",
        "* \n",
        " \n",
        " "
      ]
    },
    {
      "cell_type": "code",
      "metadata": {
        "id": "GUvFrG790Mwb",
        "colab_type": "code",
        "colab": {
          "base_uri": "https://localhost:8080/",
          "height": 136
        },
        "outputId": "f3e76f6d-8c83-4e42-d50b-39c7b4c697ec"
      },
      "source": [
        "rows =int(input(\"Enter max star to be display on single line\"))\n",
        "\n",
        "for i in range (0, rows):\n",
        "    for j in range(0, i + 1):\n",
        "        print(\"*\", end=' ')\n",
        "    print(\"\\r\")\n",
        "\n",
        "for i in range (rows, 0, -1):\n",
        "    for j in range(0, i -1):\n",
        "        print(\"*\", end=' ')\n",
        "    print(\"\\r\")"
      ],
      "execution_count": 40,
      "outputs": [
        {
          "output_type": "stream",
          "text": [
            "Enter max star to be display on single line3\n",
            "* \n",
            "* * \n",
            "* * * \n",
            "* * \n",
            "* \n",
            "\n"
          ],
          "name": "stdout"
        }
      ]
    },
    {
      "cell_type": "markdown",
      "metadata": {
        "id": "2ir32NEG0Mwk",
        "colab_type": "text"
      },
      "source": [
        "6. Write a Python program to reverse a word after accepting the input from the user. \n",
        " \n",
        "Sample Output: \n",
        " \n",
        "Input word: iNeuron \n",
        " \n",
        "Output: norueNi"
      ]
    },
    {
      "cell_type": "code",
      "metadata": {
        "id": "lfGA_yL_0Mwm",
        "colab_type": "code",
        "colab": {
          "base_uri": "https://localhost:8080/",
          "height": 51
        },
        "outputId": "bcad3553-e3c1-494d-a8cd-f38ea24e0325"
      },
      "source": [
        "s=input(\"enter the string:\")\n",
        "print(s[::-1])"
      ],
      "execution_count": 41,
      "outputs": [
        {
          "output_type": "stream",
          "text": [
            "enter the string: iNeuron\n",
            "norueNi \n"
          ],
          "name": "stdout"
        }
      ]
    },
    {
      "cell_type": "markdown",
      "metadata": {
        "id": "WHe1GLNg0Mwq",
        "colab_type": "text"
      },
      "source": [
        "7. Write a Python Program to print the given string in the format specified in the ​sample output. \n",
        " WE, THE PEOPLE OF INDIA, having solemnly resolved to constitute India into a SOVEREIGN, SOCIALIST, SECULAR, DEMOCRATIC REPUBLIC and to secure to all its citizens \n",
        " \n",
        "Sample Output: \n",
        " \n",
        "WE, THE PEOPLE OF INDIA,   having solemnly resolved to constitute India into a SOVEREIGN, !  SOCIALIST, SECULAR, DEMOCRATIC REPUBLIC    and to secure to all its citizens "
      ]
    },
    {
      "cell_type": "code",
      "metadata": {
        "id": "GQ2TezJm0Mws",
        "colab_type": "code",
        "colab": {
          "base_uri": "https://localhost:8080/",
          "height": 54
        },
        "outputId": "a6b1450b-5cea-48c8-f05c-ed343760cc73"
      },
      "source": [
        "  print('WE, THE PEOPLE OF INDIA, having solemnly resolved to constitute India into a SOVEREIGN,{} SOCIALIST, SECULAR, DEMOCRATIC REPUBLIC and to secure to all its citizens'.format('!'))"
      ],
      "execution_count": 43,
      "outputs": [
        {
          "output_type": "stream",
          "text": [
            "WE, THE PEOPLE OF INDIA, having solemnly resolved to constitute India into a SOVEREIGN,! SOCIALIST, SECULAR, DEMOCRATIC REPUBLIC and to secure to all its citizens\n"
          ],
          "name": "stdout"
        }
      ]
    },
    {
      "cell_type": "markdown",
      "metadata": {
        "id": "kO_hLNqk0Mwx",
        "colab_type": "text"
      },
      "source": [
        "Note : - NOTE:​ ​The​ ​solution​ ​shared​ ​through​ ​Github​ ​should​ ​contain​ ​the​ ​source code​ ​used​ ​ and​  ​the​ ​output"
      ]
    },
    {
      "cell_type": "code",
      "metadata": {
        "id": "5kg5htm60Mwz",
        "colab_type": "code",
        "colab": {}
      },
      "source": [
        ""
      ],
      "execution_count": 0,
      "outputs": []
    }
  ]
}